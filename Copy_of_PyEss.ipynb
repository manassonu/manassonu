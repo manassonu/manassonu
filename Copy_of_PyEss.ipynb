{
  "nbformat": 4,
  "nbformat_minor": 0,
  "metadata": {
    "colab": {
      "name": "Copy of PyEss.ipynb",
      "provenance": [],
      "include_colab_link": true
    },
    "kernelspec": {
      "name": "python3",
      "display_name": "Python 3"
    },
    "language_info": {
      "name": "python"
    }
  },
  "cells": [
    {
      "cell_type": "markdown",
      "metadata": {
        "id": "view-in-github",
        "colab_type": "text"
      },
      "source": [
        "<a href=\"https://colab.research.google.com/github/manassonu/manassonu/blob/Let's-upgarde/Copy_of_PyEss.ipynb\" target=\"_parent\"><img src=\"https://colab.research.google.com/assets/colab-badge.svg\" alt=\"Open In Colab\"/></a>"
      ]
    },
    {
      "cell_type": "code",
      "metadata": {
        "colab": {
          "base_uri": "https://localhost:8080/"
        },
        "id": "KKww2m-b3_UP",
        "outputId": "35313639-ff9b-4148-c108-6108ff4e245c"
      },
      "source": [
        "print(\"Happy *Ugadi*, Gudi Padwa, Baisakhi, Vishu, Puthandu, Jur Sithal, Cheti Chand, Bohag Bihu, Navreh & Poila Bosha\")"
      ],
      "execution_count": null,
      "outputs": [
        {
          "output_type": "stream",
          "text": [
            "Happy *Ugadi*, Gudi Padwa, Baisakhi, Vishu, Puthandu, Jur Sithal, Cheti Chand, Bohag Bihu, Navreh & Poila Bosha\n"
          ],
          "name": "stdout"
        }
      ]
    },
    {
      "cell_type": "code",
      "metadata": {
        "id": "xL12FCbq4d3V"
      },
      "source": [
        "# DataTypes "
      ],
      "execution_count": null,
      "outputs": []
    },
    {
      "cell_type": "code",
      "metadata": {
        "id": "xndR3iPw6mrM"
      },
      "source": [
        "# Whole Number = Int"
      ],
      "execution_count": null,
      "outputs": []
    },
    {
      "cell_type": "code",
      "metadata": {
        "id": "fa4rt-mX67RH"
      },
      "source": [
        "a = 5"
      ],
      "execution_count": null,
      "outputs": []
    },
    {
      "cell_type": "code",
      "metadata": {
        "colab": {
          "base_uri": "https://localhost:8080/"
        },
        "id": "T8Gdax0k68b4",
        "outputId": "af5b3372-1862-4080-d1b7-6a4789f30505"
      },
      "source": [
        "type(a)"
      ],
      "execution_count": null,
      "outputs": [
        {
          "output_type": "execute_result",
          "data": {
            "text/plain": [
              "int"
            ]
          },
          "metadata": {
            "tags": []
          },
          "execution_count": 4
        }
      ]
    },
    {
      "cell_type": "code",
      "metadata": {
        "id": "UNogcWZ47Btt"
      },
      "source": [
        "# Float = Demicmal Number "
      ],
      "execution_count": null,
      "outputs": []
    },
    {
      "cell_type": "code",
      "metadata": {
        "id": "HZ1z5DR-7FvM"
      },
      "source": [
        "b = 3.4"
      ],
      "execution_count": null,
      "outputs": []
    },
    {
      "cell_type": "code",
      "metadata": {
        "colab": {
          "base_uri": "https://localhost:8080/"
        },
        "id": "pPU3FXp_7Grp",
        "outputId": "fa484375-1700-4d79-e59f-ce5eb4f9b0a7"
      },
      "source": [
        "type(b)"
      ],
      "execution_count": null,
      "outputs": [
        {
          "output_type": "execute_result",
          "data": {
            "text/plain": [
              "float"
            ]
          },
          "metadata": {
            "tags": []
          },
          "execution_count": 7
        }
      ]
    },
    {
      "cell_type": "code",
      "metadata": {
        "id": "gai6RsMo7H3i"
      },
      "source": [
        "# string = str \" Group of Letters together are known as String\""
      ],
      "execution_count": null,
      "outputs": []
    },
    {
      "cell_type": "code",
      "metadata": {
        "id": "t8xlaQjd7RoR"
      },
      "source": [
        "c = \"omkar\""
      ],
      "execution_count": null,
      "outputs": []
    },
    {
      "cell_type": "code",
      "metadata": {
        "colab": {
          "base_uri": "https://localhost:8080/"
        },
        "id": "9OVtg7m47U01",
        "outputId": "7d5bcd3e-0489-433e-ffee-68e544ccf2bf"
      },
      "source": [
        "type(c)"
      ],
      "execution_count": null,
      "outputs": [
        {
          "output_type": "execute_result",
          "data": {
            "text/plain": [
              "str"
            ]
          },
          "metadata": {
            "tags": []
          },
          "execution_count": 10
        }
      ]
    },
    {
      "cell_type": "code",
      "metadata": {
        "id": "8L7H95Xt7WC8"
      },
      "source": [
        "# list = train ( taking up Goods in it, with so many of boggiee)"
      ],
      "execution_count": null,
      "outputs": []
    },
    {
      "cell_type": "code",
      "metadata": {
        "id": "tT_cAVRE7vg8"
      },
      "source": [
        "lst = ['prerna', \"siddhi\", \"yatik\", \"divya\", \"umang\"]"
      ],
      "execution_count": null,
      "outputs": []
    },
    {
      "cell_type": "code",
      "metadata": {
        "colab": {
          "base_uri": "https://localhost:8080/"
        },
        "id": "TZRdgzO18jlz",
        "outputId": "c56868e7-ef78-4ad5-b311-6f534866e55b"
      },
      "source": [
        "type(lst)"
      ],
      "execution_count": null,
      "outputs": [
        {
          "output_type": "execute_result",
          "data": {
            "text/plain": [
              "list"
            ]
          },
          "metadata": {
            "tags": []
          },
          "execution_count": 13
        }
      ]
    },
    {
      "cell_type": "code",
      "metadata": {
        "colab": {
          "base_uri": "https://localhost:8080/",
          "height": 35
        },
        "id": "XDgj5srM8o2-",
        "outputId": "b27d5813-10a0-41fc-a598-835138120933"
      },
      "source": [
        "lst[1]"
      ],
      "execution_count": null,
      "outputs": [
        {
          "output_type": "execute_result",
          "data": {
            "application/vnd.google.colaboratory.intrinsic+json": {
              "type": "string"
            },
            "text/plain": [
              "'siddhi'"
            ]
          },
          "metadata": {
            "tags": []
          },
          "execution_count": 24
        }
      ]
    },
    {
      "cell_type": "code",
      "metadata": {
        "colab": {
          "base_uri": "https://localhost:8080/",
          "height": 35
        },
        "id": "nO_vfdvb9C_P",
        "outputId": "128cea40-b091-4a24-e081-76050a4717ca"
      },
      "source": [
        "lst[4]"
      ],
      "execution_count": null,
      "outputs": [
        {
          "output_type": "execute_result",
          "data": {
            "application/vnd.google.colaboratory.intrinsic+json": {
              "type": "string"
            },
            "text/plain": [
              "'umang'"
            ]
          },
          "metadata": {
            "tags": []
          },
          "execution_count": 17
        }
      ]
    },
    {
      "cell_type": "code",
      "metadata": {
        "colab": {
          "base_uri": "https://localhost:8080/",
          "height": 35
        },
        "id": "mJLoc_xP9Gj3",
        "outputId": "59d879cd-eeb5-44f2-ecc3-8c110c127171"
      },
      "source": [
        "lst[-1]"
      ],
      "execution_count": null,
      "outputs": [
        {
          "output_type": "execute_result",
          "data": {
            "application/vnd.google.colaboratory.intrinsic+json": {
              "type": "string"
            },
            "text/plain": [
              "'umang'"
            ]
          },
          "metadata": {
            "tags": []
          },
          "execution_count": 18
        }
      ]
    },
    {
      "cell_type": "code",
      "metadata": {
        "id": "jL5xsykN9iSU"
      },
      "source": [
        "lst1 = [18734,349687,239857,\"letsupgrade\",\"i love Letsupgrade\", [\"aparajita\", \"joel\", \"sai\"]]"
      ],
      "execution_count": null,
      "outputs": []
    },
    {
      "cell_type": "code",
      "metadata": {
        "colab": {
          "base_uri": "https://localhost:8080/",
          "height": 35
        },
        "id": "PE_9MQnM-DE-",
        "outputId": "e5643aa8-4b2d-4af4-f109-fcfccfaa46fe"
      },
      "source": [
        "lst1[5][1]"
      ],
      "execution_count": null,
      "outputs": [
        {
          "output_type": "execute_result",
          "data": {
            "application/vnd.google.colaboratory.intrinsic+json": {
              "type": "string"
            },
            "text/plain": [
              "'joel'"
            ]
          },
          "metadata": {
            "tags": []
          },
          "execution_count": 21
        }
      ]
    },
    {
      "cell_type": "code",
      "metadata": {
        "colab": {
          "base_uri": "https://localhost:8080/",
          "height": 35
        },
        "id": "qKp004GN-JUI",
        "outputId": "c7ea4dfa-4c23-4e64-f32a-b69d500be463"
      },
      "source": [
        "lst1[-1][1]"
      ],
      "execution_count": null,
      "outputs": [
        {
          "output_type": "execute_result",
          "data": {
            "application/vnd.google.colaboratory.intrinsic+json": {
              "type": "string"
            },
            "text/plain": [
              "'joel'"
            ]
          },
          "metadata": {
            "tags": []
          },
          "execution_count": 23
        }
      ]
    },
    {
      "cell_type": "code",
      "metadata": {
        "id": "Jd3jOoj6-WMJ"
      },
      "source": [
        "#dict = "
      ],
      "execution_count": null,
      "outputs": []
    },
    {
      "cell_type": "code",
      "metadata": {
        "id": "k-sbTvtj_IKf"
      },
      "source": [
        "lst2 = [\"sai\", 28, \"9662544\", \"sai@lu.in\",\"b+\"]"
      ],
      "execution_count": null,
      "outputs": []
    },
    {
      "cell_type": "code",
      "metadata": {
        "colab": {
          "base_uri": "https://localhost:8080/",
          "height": 35
        },
        "id": "7pwipMm8_99c",
        "outputId": "7378113d-aed3-4544-e6bf-0ea2a29d3144"
      },
      "source": [
        "lst2[0]"
      ],
      "execution_count": null,
      "outputs": [
        {
          "output_type": "execute_result",
          "data": {
            "application/vnd.google.colaboratory.intrinsic+json": {
              "type": "string"
            },
            "text/plain": [
              "'sai'"
            ]
          },
          "metadata": {
            "tags": []
          },
          "execution_count": 27
        }
      ]
    },
    {
      "cell_type": "code",
      "metadata": {
        "id": "L_L56PoMAC3c"
      },
      "source": [
        "# dict is a Key value pair where you store data with a KEY assigned to it"
      ],
      "execution_count": null,
      "outputs": []
    },
    {
      "cell_type": "code",
      "metadata": {
        "id": "dv-o6Mj7AYY8"
      },
      "source": [
        "dit = {\"name\":\"saikiran\", \"age\":28, \"email\":\"sai@lu.in\", \"mobile\":\"9662454455\", \"blood_group\":\"b+\"}"
      ],
      "execution_count": null,
      "outputs": []
    },
    {
      "cell_type": "code",
      "metadata": {
        "colab": {
          "base_uri": "https://localhost:8080/"
        },
        "id": "G6IFsyPjAqun",
        "outputId": "68b35433-2e6f-4fc0-e93c-53fe4013588c"
      },
      "source": [
        "dit"
      ],
      "execution_count": null,
      "outputs": [
        {
          "output_type": "execute_result",
          "data": {
            "text/plain": [
              "{'age': 28,\n",
              " 'blood_group': 'b+',\n",
              " 'email': 'sai@lu.in',\n",
              " 'mobile': '9662454455',\n",
              " 'name': 'saikiran'}"
            ]
          },
          "metadata": {
            "tags": []
          },
          "execution_count": 33
        }
      ]
    },
    {
      "cell_type": "code",
      "metadata": {
        "colab": {
          "base_uri": "https://localhost:8080/",
          "height": 35
        },
        "id": "Z9zh3Qa0Atm_",
        "outputId": "b0522e0b-7cdf-4441-81ae-3c474b011e45"
      },
      "source": [
        "dit[\"name\"]"
      ],
      "execution_count": null,
      "outputs": [
        {
          "output_type": "execute_result",
          "data": {
            "application/vnd.google.colaboratory.intrinsic+json": {
              "type": "string"
            },
            "text/plain": [
              "'saikiran'"
            ]
          },
          "metadata": {
            "tags": []
          },
          "execution_count": 34
        }
      ]
    },
    {
      "cell_type": "code",
      "metadata": {
        "id": "NVsuNz0hAx8U"
      },
      "source": [
        "# Set "
      ],
      "execution_count": null,
      "outputs": []
    },
    {
      "cell_type": "code",
      "metadata": {
        "id": "jUT-_9SzCEg1"
      },
      "source": [
        "covid1stDose = [\"12564\", \"32745\", \"238476\", \"12564\", \"872364\"]"
      ],
      "execution_count": null,
      "outputs": []
    },
    {
      "cell_type": "code",
      "metadata": {
        "colab": {
          "base_uri": "https://localhost:8080/"
        },
        "id": "se1YK6XsCxOO",
        "outputId": "9a5042b4-580c-49d4-9a49-b1e76c289af4"
      },
      "source": [
        "covid1stDose"
      ],
      "execution_count": null,
      "outputs": [
        {
          "output_type": "execute_result",
          "data": {
            "text/plain": [
              "['12564', '32745', '238476', '12564', '872364']"
            ]
          },
          "metadata": {
            "tags": []
          },
          "execution_count": 42
        }
      ]
    },
    {
      "cell_type": "code",
      "metadata": {
        "colab": {
          "base_uri": "https://localhost:8080/"
        },
        "id": "O_MzpsjWCzRF",
        "outputId": "984e8597-2674-4726-d35b-9e74aa393a50"
      },
      "source": [
        "len(covid1stDose)"
      ],
      "execution_count": null,
      "outputs": [
        {
          "output_type": "execute_result",
          "data": {
            "text/plain": [
              "5"
            ]
          },
          "metadata": {
            "tags": []
          },
          "execution_count": 43
        }
      ]
    },
    {
      "cell_type": "code",
      "metadata": {
        "colab": {
          "base_uri": "https://localhost:8080/"
        },
        "id": "kO0gPLGyC4Uu",
        "outputId": "b01e52dc-40c2-4caf-a69a-2317da4c2adf"
      },
      "source": [
        "len(set(covid1stDose))"
      ],
      "execution_count": null,
      "outputs": [
        {
          "output_type": "execute_result",
          "data": {
            "text/plain": [
              "4"
            ]
          },
          "metadata": {
            "tags": []
          },
          "execution_count": 44
        }
      ]
    },
    {
      "cell_type": "code",
      "metadata": {
        "id": "I68ihAKxEfif"
      },
      "source": [
        "st = {\"123\",\"456\",\"123\",\"764\"}"
      ],
      "execution_count": null,
      "outputs": []
    },
    {
      "cell_type": "code",
      "metadata": {
        "colab": {
          "base_uri": "https://localhost:8080/"
        },
        "id": "3_7CZ-I2Enk0",
        "outputId": "73ef358c-4aa9-46c0-b8bc-a1e30234ad9b"
      },
      "source": [
        "st"
      ],
      "execution_count": null,
      "outputs": [
        {
          "output_type": "execute_result",
          "data": {
            "text/plain": [
              "{'123', '456', '764'}"
            ]
          },
          "metadata": {
            "tags": []
          },
          "execution_count": 52
        }
      ]
    },
    {
      "cell_type": "code",
      "metadata": {
        "id": "khZqdURKC8q0"
      },
      "source": [
        "# Boolean \n",
        "\n",
        "decision = False"
      ],
      "execution_count": null,
      "outputs": []
    },
    {
      "cell_type": "code",
      "metadata": {
        "colab": {
          "base_uri": "https://localhost:8080/"
        },
        "id": "o_edUrCZEBut",
        "outputId": "0d9dae40-c7ca-4f6f-a86a-04bae0ad30f9"
      },
      "source": [
        "decision"
      ],
      "execution_count": null,
      "outputs": [
        {
          "output_type": "execute_result",
          "data": {
            "text/plain": [
              "False"
            ]
          },
          "metadata": {
            "tags": []
          },
          "execution_count": 49
        }
      ]
    },
    {
      "cell_type": "code",
      "metadata": {
        "colab": {
          "base_uri": "https://localhost:8080/"
        },
        "id": "vANUmwX5EDcV",
        "outputId": "615e2ebc-929d-470e-b35f-487dc7d3eebd"
      },
      "source": [
        "type(decision)"
      ],
      "execution_count": null,
      "outputs": [
        {
          "output_type": "execute_result",
          "data": {
            "text/plain": [
              "bool"
            ]
          },
          "metadata": {
            "tags": []
          },
          "execution_count": 50
        }
      ]
    },
    {
      "cell_type": "code",
      "metadata": {
        "id": "7kLsLCAJEGAM"
      },
      "source": [
        "# If Elif and Else\n",
        "# for Loop \n",
        "# While Loop \n",
        "# Function"
      ],
      "execution_count": null,
      "outputs": []
    },
    {
      "cell_type": "code",
      "metadata": {
        "id": "TGnmyc2fFFwU"
      },
      "source": [
        "# Go get the most creative answer for explaining tuple \n",
        "\n",
        "# Try including, sub dict inside a dict\n",
        "\n",
        "# Try out these all Data Types"
      ],
      "execution_count": null,
      "outputs": []
    },
    {
      "cell_type": "code",
      "metadata": {
        "id": "qRRGann8FPPi"
      },
      "source": [
        "lst3 = [1,2,3,4]"
      ],
      "execution_count": null,
      "outputs": []
    },
    {
      "cell_type": "code",
      "metadata": {
        "id": "HCsZT3y5IWVU"
      },
      "source": [
        "lst4 = [1,2,lst3]"
      ],
      "execution_count": null,
      "outputs": []
    },
    {
      "cell_type": "code",
      "metadata": {
        "colab": {
          "base_uri": "https://localhost:8080/"
        },
        "id": "8N6DIeuRIX5_",
        "outputId": "26aec045-2002-4874-c3b7-5c2d2a283f0d"
      },
      "source": [
        "lst4"
      ],
      "execution_count": null,
      "outputs": [
        {
          "output_type": "execute_result",
          "data": {
            "text/plain": [
              "[1, 2, [1, 2, 3, 4]]"
            ]
          },
          "metadata": {
            "tags": []
          },
          "execution_count": 58
        }
      ]
    },
    {
      "cell_type": "code",
      "metadata": {
        "id": "3yrCDj-DIY30"
      },
      "source": [
        "# Tuple\n",
        "\n",
        "# Store data just like list, which cnt be changed ever !!!!"
      ],
      "execution_count": null,
      "outputs": []
    },
    {
      "cell_type": "code",
      "metadata": {
        "id": "PumZ3MKxEC7W"
      },
      "source": [
        "# Aakash Kumar \n",
        "# tupple is like pen writting while other are pencil writting"
      ],
      "execution_count": null,
      "outputs": []
    },
    {
      "cell_type": "code",
      "metadata": {
        "id": "spUcfeVHFFA-"
      },
      "source": [
        "# IF ELIF Else"
      ],
      "execution_count": null,
      "outputs": []
    },
    {
      "cell_type": "code",
      "metadata": {
        "colab": {
          "base_uri": "https://localhost:8080/"
        },
        "id": "mzOXPtodF0px",
        "outputId": "9e9583e1-097b-496f-fa5e-2347b35f6507"
      },
      "source": [
        "students = 249 \n",
        "\n",
        "if students >= 250:\n",
        "  print(\"I will teach the Class !!\")\n",
        "else:\n",
        "  print(\"I will go play GTA V\")"
      ],
      "execution_count": null,
      "outputs": [
        {
          "output_type": "stream",
          "text": [
            "I will go play GTA V\n"
          ],
          "name": "stdout"
        }
      ]
    },
    {
      "cell_type": "code",
      "metadata": {
        "colab": {
          "base_uri": "https://localhost:8080/"
        },
        "id": "cGsrumN1GvZJ",
        "outputId": "dede2890-3b1b-4c92-8966-372bbcc36d24"
      },
      "source": [
        "students = 278\n",
        "\n",
        "if students >270:\n",
        "  print(\"Wow, am super excited to teach !!\")\n",
        "elif students >250 and students<270:\n",
        "  print(\"Ok, still i will teach\")\n",
        "else:\n",
        "  print(\"Ok, I dnt have any option I need to teach :P\")\n",
        "c"
      ],
      "execution_count": null,
      "outputs": [
        {
          "output_type": "stream",
          "text": [
            "Wow, am super excited to teach !!\n"
          ],
          "name": "stdout"
        }
      ]
    },
    {
      "cell_type": "code",
      "metadata": {
        "colab": {
          "base_uri": "https://localhost:8080/"
        },
        "id": "yZo2BlpmIJTm",
        "outputId": "a37f7754-6c16-4871-975d-73fd67500457"
      },
      "source": [
        "age=28\n",
        "\n",
        "if age>18:\n",
        "   print(\"you can vote in election \") \n",
        "elif age==18:\n",
        "    print(\" apply for voter id\") \n",
        "else:\n",
        "    print(\"you have to wait till 18\")"
      ],
      "execution_count": null,
      "outputs": [
        {
          "output_type": "stream",
          "text": [
            "you can vote in election \n"
          ],
          "name": "stdout"
        }
      ]
    },
    {
      "cell_type": "code",
      "metadata": {
        "id": "5dJOqO9oIfNh"
      },
      "source": [
        "# # you all are PM of India, you need to take decision for making Lockdown yes or no, based on \n",
        "\n",
        "# Number of Covid Positive, \n",
        "\n",
        "# if the umber of covid postive is more than 300000 per day, get it lockdown, \n",
        "# if it more than 200000 and less than \n",
        "# 300000, announce section 144, else, it ok \" Dawayi bhi kaddyi bhi\""
      ],
      "execution_count": null,
      "outputs": []
    },
    {
      "cell_type": "code",
      "metadata": {
        "id": "BHMwfEIUJt-3"
      },
      "source": [
        "# For Loops ? "
      ],
      "execution_count": null,
      "outputs": []
    },
    {
      "cell_type": "code",
      "metadata": {
        "id": "ZFxiOaOWJurL"
      },
      "source": [
        "# Loops ?"
      ],
      "execution_count": null,
      "outputs": []
    },
    {
      "cell_type": "code",
      "metadata": {
        "id": "w4Fm4AiLJ33C"
      },
      "source": [
        ""
      ],
      "execution_count": null,
      "outputs": []
    },
    {
      "cell_type": "code",
      "metadata": {
        "colab": {
          "base_uri": "https://localhost:8080/"
        },
        "id": "78TUPgXCL-n9",
        "outputId": "23a964bb-00f2-44ed-e52a-019eee2d973f"
      },
      "source": [
        "for item in range(0,20+1) :\n",
        "  print(item)"
      ],
      "execution_count": null,
      "outputs": [
        {
          "output_type": "stream",
          "text": [
            "0\n",
            "1\n",
            "2\n",
            "3\n",
            "4\n",
            "5\n",
            "6\n",
            "7\n",
            "8\n",
            "9\n",
            "10\n",
            "11\n",
            "12\n",
            "13\n",
            "14\n",
            "15\n",
            "16\n",
            "17\n",
            "18\n",
            "19\n",
            "20\n"
          ],
          "name": "stdout"
        }
      ]
    },
    {
      "cell_type": "code",
      "metadata": {
        "id": "z2EFNvfFMGzD"
      },
      "source": [
        "# Write a function with the help of for loop \n",
        "# for printing all the prime Number from 1-100"
      ],
      "execution_count": null,
      "outputs": []
    },
    {
      "cell_type": "code",
      "metadata": {
        "id": "Ih8yu_HkOvtT"
      },
      "source": [
        "#HOW TO Take Users Input in Python ?"
      ],
      "execution_count": null,
      "outputs": []
    },
    {
      "cell_type": "code",
      "metadata": {
        "colab": {
          "base_uri": "https://localhost:8080/"
        },
        "id": "UXLWE3qIOyug",
        "outputId": "4149ad09-1bca-466b-fbff-f1d62a97c85c"
      },
      "source": [
        "userEntry = input(\"Please enter your Name : \")"
      ],
      "execution_count": null,
      "outputs": [
        {
          "output_type": "stream",
          "text": [
            "Please enter your Name : Umang\n"
          ],
          "name": "stdout"
        }
      ]
    },
    {
      "cell_type": "code",
      "metadata": {
        "colab": {
          "base_uri": "https://localhost:8080/",
          "height": 35
        },
        "id": "YaRPDQRYO_AK",
        "outputId": "a601b525-84dc-4309-ce49-ae7c87e37b39"
      },
      "source": [
        "userEntry"
      ],
      "execution_count": null,
      "outputs": [
        {
          "output_type": "execute_result",
          "data": {
            "application/vnd.google.colaboratory.intrinsic+json": {
              "type": "string"
            },
            "text/plain": [
              "'Umang'"
            ]
          },
          "metadata": {
            "tags": []
          },
          "execution_count": 35
        }
      ]
    },
    {
      "cell_type": "code",
      "metadata": {
        "colab": {
          "base_uri": "https://localhost:8080/"
        },
        "id": "ko2XAMYROJv3",
        "outputId": "9198a5c0-702b-4575-c8c1-69a021c63c03"
      },
      "source": [
        "# While Loop \n",
        "\n",
        "DoYouWantToPlayAgain = True\n",
        "\n",
        "while DoYouWantToPlayAgain: \n",
        "  print(\"Hi\")\n",
        "  user = input(\"Do you want to play again ? y/n : \")\n",
        "  if user == 'n' or user == \"N\":\n",
        "    DoYouWantToPlayAgain = False\n",
        "    print(\"Finally you have stopped, now go eat dinner --- \")\n",
        "  \n"
      ],
      "execution_count": null,
      "outputs": [
        {
          "output_type": "stream",
          "text": [
            "Hi\n",
            "Do you want to play again ? y/n : y\n",
            "Hi\n",
            "Do you want to play again ? y/n : y\n",
            "Hi\n",
            "Do you want to play again ? y/n : y\n",
            "Hi\n",
            "Do you want to play again ? y/n : y\n",
            "Hi\n",
            "Do you want to play again ? y/n : y\n",
            "Hi\n",
            "Do you want to play again ? y/n : y\n",
            "Hi\n",
            "Do you want to play again ? y/n : n\n",
            "Finally you have stopped, now go eat dinner --- \n"
          ],
          "name": "stdout"
        }
      ]
    },
    {
      "cell_type": "code",
      "metadata": {
        "id": "0Zv5nsHYPWwg"
      },
      "source": [
        "# Write a function with the help of for loop \n",
        "# for printing all the prime Number from 1-100"
      ],
      "execution_count": null,
      "outputs": []
    },
    {
      "cell_type": "code",
      "metadata": {
        "id": "w7sXXGJ9HlcZ"
      },
      "source": [
        "# 1. How to clasify a number as Prime Number \n",
        "# 2. put this whole code inside a for loop of 100 \n",
        "\n"
      ],
      "execution_count": null,
      "outputs": []
    },
    {
      "cell_type": "code",
      "metadata": {
        "id": "IxdEdBHTH4Js"
      },
      "source": [
        "num = 7"
      ],
      "execution_count": null,
      "outputs": []
    },
    {
      "cell_type": "code",
      "metadata": {
        "colab": {
          "base_uri": "https://localhost:8080/"
        },
        "id": "8zn6VV_3IFfu",
        "outputId": "03246bcc-5677-4cd6-e7d6-faab734308fc"
      },
      "source": [
        "9/3"
      ],
      "execution_count": null,
      "outputs": [
        {
          "output_type": "execute_result",
          "data": {
            "text/plain": [
              "3.0"
            ]
          },
          "metadata": {
            "tags": []
          },
          "execution_count": 4
        }
      ]
    },
    {
      "cell_type": "code",
      "metadata": {
        "colab": {
          "base_uri": "https://localhost:8080/"
        },
        "id": "aumTbd1jIO0Q",
        "outputId": "239598c3-b7fd-465b-9534-1893a8280035"
      },
      "source": [
        "9/1"
      ],
      "execution_count": null,
      "outputs": [
        {
          "output_type": "execute_result",
          "data": {
            "text/plain": [
              "9.0"
            ]
          },
          "metadata": {
            "tags": []
          },
          "execution_count": 5
        }
      ]
    },
    {
      "cell_type": "code",
      "metadata": {
        "colab": {
          "base_uri": "https://localhost:8080/"
        },
        "id": "JT2j9vJqIPzI",
        "outputId": "335551ab-e438-4cb3-b2b0-55fb98dc55f7"
      },
      "source": [
        "9/9"
      ],
      "execution_count": null,
      "outputs": [
        {
          "output_type": "execute_result",
          "data": {
            "text/plain": [
              "1.0"
            ]
          },
          "metadata": {
            "tags": []
          },
          "execution_count": 6
        }
      ]
    },
    {
      "cell_type": "code",
      "metadata": {
        "id": "0Lajxn3GITM-"
      },
      "source": [
        "#1,3,9"
      ],
      "execution_count": null,
      "outputs": []
    },
    {
      "cell_type": "code",
      "metadata": {
        "colab": {
          "base_uri": "https://localhost:8080/"
        },
        "id": "0DpLLuhpIZm8",
        "outputId": "7e246240-c086-4eb7-931a-6a29d0a76fb5"
      },
      "source": [
        "12 /2"
      ],
      "execution_count": null,
      "outputs": [
        {
          "output_type": "execute_result",
          "data": {
            "text/plain": [
              "6.0"
            ]
          },
          "metadata": {
            "tags": []
          },
          "execution_count": 8
        }
      ]
    },
    {
      "cell_type": "code",
      "metadata": {
        "colab": {
          "base_uri": "https://localhost:8080/"
        },
        "id": "SRf_xoLYIeGZ",
        "outputId": "9dd859f3-d997-419b-8185-b64e2797e7e6"
      },
      "source": [
        "12/3"
      ],
      "execution_count": null,
      "outputs": [
        {
          "output_type": "execute_result",
          "data": {
            "text/plain": [
              "4.0"
            ]
          },
          "metadata": {
            "tags": []
          },
          "execution_count": 9
        }
      ]
    },
    {
      "cell_type": "code",
      "metadata": {
        "colab": {
          "base_uri": "https://localhost:8080/"
        },
        "id": "je-6arDEIex8",
        "outputId": "fde57657-7e5a-4f02-9f98-cbb282dedc8f"
      },
      "source": [
        "12/4"
      ],
      "execution_count": null,
      "outputs": [
        {
          "output_type": "execute_result",
          "data": {
            "text/plain": [
              "3.0"
            ]
          },
          "metadata": {
            "tags": []
          },
          "execution_count": 10
        }
      ]
    },
    {
      "cell_type": "code",
      "metadata": {
        "colab": {
          "base_uri": "https://localhost:8080/"
        },
        "id": "OPAFWIVaIfwj",
        "outputId": "d48e5a8a-a0c1-4fb6-decb-56db2e4e76df"
      },
      "source": [
        "12/6"
      ],
      "execution_count": null,
      "outputs": [
        {
          "output_type": "execute_result",
          "data": {
            "text/plain": [
              "2.0"
            ]
          },
          "metadata": {
            "tags": []
          },
          "execution_count": 11
        }
      ]
    },
    {
      "cell_type": "code",
      "metadata": {
        "id": "hEurgdhuI92B"
      },
      "source": [
        "9 -> 1,3,9"
      ],
      "execution_count": null,
      "outputs": []
    },
    {
      "cell_type": "code",
      "metadata": {
        "id": "MXsUisbuJGjB"
      },
      "source": [
        "20 -> 1,2,4,5,10,20"
      ],
      "execution_count": null,
      "outputs": []
    },
    {
      "cell_type": "code",
      "metadata": {
        "id": "O6fs40_0JGOy"
      },
      "source": [
        "# You will be successfully divide any number with the immediate half of the number\n",
        "# Getting divided \n",
        "\n",
        "#the perfect division number always going to be divded by 2"
      ],
      "execution_count": null,
      "outputs": []
    },
    {
      "cell_type": "code",
      "metadata": {
        "colab": {
          "base_uri": "https://localhost:8080/"
        },
        "id": "HH9Bs53mIgtm",
        "outputId": "251681b4-4cf0-43f9-a282-2bd47340be0f"
      },
      "source": [
        "12 -> 1,2,3,4,6,12"
      ],
      "execution_count": null,
      "outputs": [
        {
          "output_type": "execute_result",
          "data": {
            "text/plain": [
              "1.0"
            ]
          },
          "metadata": {
            "tags": []
          },
          "execution_count": 12
        }
      ]
    },
    {
      "cell_type": "code",
      "metadata": {
        "colab": {
          "base_uri": "https://localhost:8080/"
        },
        "id": "n2BSEAYEIif5",
        "outputId": "f1cf9c4a-df40-472b-b110-323b165e6c62"
      },
      "source": [
        "num = 96\n",
        "counter = 0\n",
        "for i in range(2,int(num/2)):\n",
        "  if num%i == 0:\n",
        "    counter = counter + 1\n",
        "\n",
        "if counter >0:\n",
        "  print(\" It is not a Prime Number\")\n",
        "else:\n",
        "  print(\" It is a Prime Number\")"
      ],
      "execution_count": null,
      "outputs": [
        {
          "output_type": "stream",
          "text": [
            " It is not a Prime Number\n"
          ],
          "name": "stdout"
        }
      ]
    },
    {
      "cell_type": "code",
      "metadata": {
        "id": "4ZH4i7MXJ4_s"
      },
      "source": [
        "#indentation? "
      ],
      "execution_count": null,
      "outputs": []
    },
    {
      "cell_type": "code",
      "metadata": {
        "id": "Lw0nMVe-KVxE"
      },
      "source": [
        "# if ( a==b ){\n",
        "# printf(\"Hi this is something\")\n",
        "# }"
      ],
      "execution_count": null,
      "outputs": []
    },
    {
      "cell_type": "code",
      "metadata": {
        "colab": {
          "base_uri": "https://localhost:8080/"
        },
        "id": "GDulj_VTMDha",
        "outputId": "1c6606b7-b917-4e71-dece-55f7ffb49e98"
      },
      "source": [
        "a= 4\n",
        "b = 4\n",
        "if a == b:\n",
        "  print(\"I am Awsm\")"
      ],
      "execution_count": null,
      "outputs": [
        {
          "output_type": "stream",
          "text": [
            "I am Awsm\n"
          ],
          "name": "stdout"
        }
      ]
    },
    {
      "cell_type": "code",
      "metadata": {
        "colab": {
          "base_uri": "https://localhost:8080/"
        },
        "id": "gTyNU7HKMNAU",
        "outputId": "85be3b28-c43f-41dd-c634-eed68fdfae50"
      },
      "source": [
        "list(range(10))"
      ],
      "execution_count": null,
      "outputs": [
        {
          "output_type": "execute_result",
          "data": {
            "text/plain": [
              "[0, 1, 2, 3, 4, 5, 6, 7, 8, 9]"
            ]
          },
          "metadata": {
            "tags": []
          },
          "execution_count": 29
        }
      ]
    },
    {
      "cell_type": "code",
      "metadata": {
        "colab": {
          "base_uri": "https://localhost:8080/"
        },
        "id": "gSXaz_flMun9",
        "outputId": "77d98ba6-ee19-47bd-e32f-5f3de3f1c493"
      },
      "source": [
        "list(range(5,10))"
      ],
      "execution_count": null,
      "outputs": [
        {
          "output_type": "execute_result",
          "data": {
            "text/plain": [
              "[5, 6, 7, 8, 9]"
            ]
          },
          "metadata": {
            "tags": []
          },
          "execution_count": 30
        }
      ]
    },
    {
      "cell_type": "code",
      "metadata": {
        "colab": {
          "base_uri": "https://localhost:8080/"
        },
        "id": "J8WLsr-yMzk7",
        "outputId": "e1ef0cdf-1f39-4744-d790-ddb0ff96679d"
      },
      "source": [
        "list(range(2,10,2))"
      ],
      "execution_count": null,
      "outputs": [
        {
          "output_type": "execute_result",
          "data": {
            "text/plain": [
              "[2, 4, 6, 8]"
            ]
          },
          "metadata": {
            "tags": []
          },
          "execution_count": 31
        }
      ]
    },
    {
      "cell_type": "code",
      "metadata": {
        "id": "ZtKY1ftHM2fj"
      },
      "source": [
        "# Day 4 Agenda ->\n",
        "\n",
        "# Functions \n",
        "\n",
        "# Library \n",
        "\n",
        "# Build our own Library "
      ],
      "execution_count": null,
      "outputs": []
    },
    {
      "cell_type": "code",
      "metadata": {
        "id": "hRAjZHjiNBGp"
      },
      "source": [
        "# Fuctions are used for reducing the umber of lines of the code, \n",
        "\n",
        "# Function.s help us reuse the code \n",
        "\n",
        "# Fuctions help us not repeting the code N Number of times, with same work"
      ],
      "execution_count": null,
      "outputs": []
    },
    {
      "cell_type": "code",
      "metadata": {
        "id": "PEzXPx2pN-Yi"
      },
      "source": [
        "def sampleFun():\n",
        "  print(\"Hi Hello\")\n",
        "  print(\"I need more answers \")\n",
        "  print(\"To make this class interactive\")"
      ],
      "execution_count": null,
      "outputs": []
    },
    {
      "cell_type": "code",
      "metadata": {
        "colab": {
          "base_uri": "https://localhost:8080/"
        },
        "id": "vwwlxKWmORwT",
        "outputId": "3e9697ff-7e13-4c2f-ef31-77ab53d8c780"
      },
      "source": [
        "sampleFun()"
      ],
      "execution_count": null,
      "outputs": [
        {
          "output_type": "stream",
          "text": [
            "Hi Hello\n",
            "I need more answers \n",
            "To make this class interactive\n"
          ],
          "name": "stdout"
        }
      ]
    },
    {
      "cell_type": "code",
      "metadata": {
        "colab": {
          "base_uri": "https://localhost:8080/"
        },
        "id": "YUntbttpOTLW",
        "outputId": "025e17a1-c253-44cd-8eea-5e89b1b03e76"
      },
      "source": [
        "sampleFun()"
      ],
      "execution_count": null,
      "outputs": [
        {
          "output_type": "stream",
          "text": [
            "Hi Hello\n",
            "I need more answers \n",
            "To make this class interactive\n"
          ],
          "name": "stdout"
        }
      ]
    },
    {
      "cell_type": "code",
      "metadata": {
        "colab": {
          "base_uri": "https://localhost:8080/"
        },
        "id": "jKgd7_lEOWcx",
        "outputId": "29685f6e-4529-40e8-ef58-0a6628e762f1"
      },
      "source": [
        "sampleFun"
      ],
      "execution_count": null,
      "outputs": [
        {
          "output_type": "execute_result",
          "data": {
            "text/plain": [
              "<function __main__.sampleFun>"
            ]
          },
          "metadata": {
            "tags": []
          },
          "execution_count": 42
        }
      ]
    },
    {
      "cell_type": "code",
      "metadata": {
        "id": "NyYbHkg-OnzB"
      },
      "source": [
        "def greet(name):\n",
        "  print(\"Hi\",name,\" Welcome to LetsUpgrade\")\n",
        "  print(name,\", you are amazing !!\")"
      ],
      "execution_count": null,
      "outputs": []
    },
    {
      "cell_type": "code",
      "metadata": {
        "colab": {
          "base_uri": "https://localhost:8080/"
        },
        "id": "LJ0GNuScPEoI",
        "outputId": "80a14194-0f5a-4f3d-9e17-5b27ee2ccec4"
      },
      "source": [
        "greet('Seemanshu')"
      ],
      "execution_count": null,
      "outputs": [
        {
          "output_type": "stream",
          "text": [
            "Hi Seemanshu  Welcome to LetsUpgrade\n",
            "Seemanshu , you are amazing !!\n"
          ],
          "name": "stdout"
        }
      ]
    },
    {
      "cell_type": "code",
      "metadata": {
        "id": "Mfs_VvnwPF98"
      },
      "source": [
        "def hi(name):\n",
        "   print(\"HI\", name) "
      ],
      "execution_count": null,
      "outputs": []
    },
    {
      "cell_type": "code",
      "metadata": {
        "colab": {
          "base_uri": "https://localhost:8080/"
        },
        "id": "B3hIwPwsPpLD",
        "outputId": "90d29976-8984-4fb3-b727-79950810019c"
      },
      "source": [
        "hi(\"bindu\")"
      ],
      "execution_count": null,
      "outputs": [
        {
          "output_type": "stream",
          "text": [
            "HI bindu\n"
          ],
          "name": "stdout"
        }
      ]
    },
    {
      "cell_type": "code",
      "metadata": {
        "id": "M1MA06VxPs-K"
      },
      "source": [
        "def ipl(team1,team2,scoreTeam1, scoreTeam2):\n",
        "  if scoreTeam1 > scoreTeam2:\n",
        "    print(team1, \"Won the match defeting\", team2)\n",
        "  elif scoreTeam1 < scoreTeam2:\n",
        "    print(team2, \"Won the match defeting\", team1)\n",
        "  else:\n",
        "    print(\" It is a Draw\")"
      ],
      "execution_count": null,
      "outputs": []
    },
    {
      "cell_type": "code",
      "metadata": {
        "colab": {
          "base_uri": "https://localhost:8080/"
        },
        "id": "sBr4SVw0QaMR",
        "outputId": "54092c29-bc55-43d5-fe2d-60d7e92207e3"
      },
      "source": [
        "ipl(\"dc\",'rr',147,150)"
      ],
      "execution_count": null,
      "outputs": [
        {
          "output_type": "stream",
          "text": [
            "rr Won the match defeting dc\n"
          ],
          "name": "stdout"
        }
      ]
    },
    {
      "cell_type": "code",
      "metadata": {
        "id": "7xcVGLzAQnCB"
      },
      "source": [
        "def addition(a,b,c):\n",
        "  sum = a+b+c\n",
        "  return sum"
      ],
      "execution_count": null,
      "outputs": []
    },
    {
      "cell_type": "code",
      "metadata": {
        "id": "QEqkdEDmQ9tO"
      },
      "source": [
        "a = addition(1,2,3)"
      ],
      "execution_count": null,
      "outputs": []
    },
    {
      "cell_type": "code",
      "metadata": {
        "colab": {
          "base_uri": "https://localhost:8080/"
        },
        "id": "Q4NS9Ur1RAev",
        "outputId": "913f1c37-db70-4934-83e1-26784f10dd0f"
      },
      "source": [
        "type(a)"
      ],
      "execution_count": null,
      "outputs": [
        {
          "output_type": "execute_result",
          "data": {
            "text/plain": [
              "int"
            ]
          },
          "metadata": {
            "tags": []
          },
          "execution_count": 62
        }
      ]
    },
    {
      "cell_type": "code",
      "metadata": {
        "colab": {
          "base_uri": "https://localhost:8080/"
        },
        "id": "FUeOW6kCRXqW",
        "outputId": "9599353c-3f91-4639-83c8-00bb07391110"
      },
      "source": [
        "a"
      ],
      "execution_count": null,
      "outputs": [
        {
          "output_type": "execute_result",
          "data": {
            "text/plain": [
              "6"
            ]
          },
          "metadata": {
            "tags": []
          },
          "execution_count": 63
        }
      ]
    },
    {
      "cell_type": "code",
      "metadata": {
        "id": "oV9n9Z4kRgKT"
      },
      "source": [
        "def addition(*args):\n",
        "  sum = 0\n",
        "  for ali in args:\n",
        "    sum = sum + ali\n",
        "  return sum"
      ],
      "execution_count": null,
      "outputs": []
    },
    {
      "cell_type": "code",
      "metadata": {
        "colab": {
          "base_uri": "https://localhost:8080/"
        },
        "id": "smpUJL78Spbi",
        "outputId": "b898473d-b6fb-4aba-8ef1-69ad36c3ccbb"
      },
      "source": [
        "addition(1,2,3,4,5,6,7,8,9,10)"
      ],
      "execution_count": null,
      "outputs": [
        {
          "output_type": "execute_result",
          "data": {
            "text/plain": [
              "55"
            ]
          },
          "metadata": {
            "tags": []
          },
          "execution_count": 74
        }
      ]
    },
    {
      "cell_type": "code",
      "metadata": {
        "id": "5w0EkQmwStf9"
      },
      "source": [
        "def getStudentDetails(**shristy):\n",
        "  for item in shristy.keys():\n",
        "    print(item, \" - \", shristy[item])\n"
      ],
      "execution_count": null,
      "outputs": []
    },
    {
      "cell_type": "markdown",
      "metadata": {
        "id": "IZm-4isHXCma"
      },
      "source": [
        ""
      ]
    },
    {
      "cell_type": "code",
      "metadata": {
        "colab": {
          "base_uri": "https://localhost:8080/"
        },
        "id": "80YtWyCFTx2p",
        "outputId": "c297c307-4f2a-4ab9-b8a5-999c7e240f38"
      },
      "source": [
        "getStudentDetails(name=\"Sai\", age= 55, mobile = \"9662454425\")"
      ],
      "execution_count": null,
      "outputs": [
        {
          "output_type": "stream",
          "text": [
            "name  -  Sai\n",
            "age  -  55\n",
            "mobile  -  9662454425\n"
          ],
          "name": "stdout"
        }
      ]
    },
    {
      "cell_type": "code",
      "metadata": {
        "id": "fIZzB9o7T1XK"
      },
      "source": [
        "# Libraries ?\n",
        "\n"
      ],
      "execution_count": null,
      "outputs": []
    },
    {
      "cell_type": "code",
      "metadata": {
        "colab": {
          "base_uri": "https://localhost:8080/"
        },
        "id": "AstmiB-1XbSr",
        "outputId": "62898837-7459-43af-cd14-179818c14f02"
      },
      "source": [
        "!pip install weather-forecast"
      ],
      "execution_count": null,
      "outputs": [
        {
          "output_type": "stream",
          "text": [
            "Collecting weather-forecast\n",
            "  Downloading https://files.pythonhosted.org/packages/1d/6d/9d5c4a8aa944dbba12a9b9a1b635ddf80c1ac888b9d1b420fb8a1c411c80/weather_forecast-0.49.tar.gz\n",
            "Requirement already satisfied: geopy in /usr/local/lib/python3.7/dist-packages (from weather-forecast) (1.17.0)\n",
            "Requirement already satisfied: geographiclib<2,>=1.49 in /usr/local/lib/python3.7/dist-packages (from geopy->weather-forecast) (1.50)\n",
            "Building wheels for collected packages: weather-forecast\n",
            "  Building wheel for weather-forecast (setup.py) ... \u001b[?25l\u001b[?25hdone\n",
            "  Created wheel for weather-forecast: filename=weather_forecast-0.49-cp37-none-any.whl size=3244 sha256=a91e923fa032dc820bf7bbdd40e1837d589263dc3ab7551216900353e828f300\n",
            "  Stored in directory: /root/.cache/pip/wheels/bb/12/fa/7c4e9f65450aabfb88bb902517973ea5e5d2aeb7246a7ea4a2\n",
            "Successfully built weather-forecast\n",
            "Installing collected packages: weather-forecast\n",
            "Successfully installed weather-forecast-0.49\n"
          ],
          "name": "stdout"
        }
      ]
    },
    {
      "cell_type": "code",
      "metadata": {
        "colab": {
          "base_uri": "https://localhost:8080/"
        },
        "id": "hn9EqASvYFUo",
        "outputId": "8a7d4e31-334c-4007-fffe-66831c69c155"
      },
      "source": [
        "import weather_forecast as wf\n",
        "\n",
        "wf.forecast(place = \"Bhubaneswar\" , time=\"23:15:00\" , date=\"2021-04-16\" , forecast=\"daily\")"
      ],
      "execution_count": null,
      "outputs": [
        {
          "output_type": "stream",
          "text": [
            "{'date': '2021-04-16',\n",
            " 'day': {'humidity': None,\n",
            "         'narrative': None,\n",
            "         'phrases': None,\n",
            "         'precipitate': None,\n",
            "         'temperature': None,\n",
            "         'uv_description': None,\n",
            "         'wind_speed': None},\n",
            " 'night': {'humidity': 86,\n",
            "           'narrative': 'Generally clear. Hazy. Low 25ºC. Winds S at 10 to 15 '\n",
            "                        'km/h.',\n",
            "           'phrases': 'Clear',\n",
            "           'precipitate': 8,\n",
            "           'temperature': 25,\n",
            "           'uv_description': 'Low',\n",
            "           'wind_speed': 16},\n",
            " 'place': 'Bhubaneswar',\n",
            " 'time': '23:15:00'}\n"
          ],
          "name": "stdout"
        }
      ]
    },
    {
      "cell_type": "code",
      "metadata": {
        "id": "jkgG9lvlYIxw"
      },
      "source": [
        ""
      ],
      "execution_count": null,
      "outputs": []
    },
    {
      "cell_type": "code",
      "metadata": {
        "id": "9llwRcM0Y7VR"
      },
      "source": [
        ""
      ],
      "execution_count": null,
      "outputs": []
    }
  ]
}