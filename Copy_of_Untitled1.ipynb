{
  "nbformat": 4,
  "nbformat_minor": 0,
  "metadata": {
    "colab": {
      "name": "Copy of Untitled1.ipynb",
      "provenance": [],
      "authorship_tag": "ABX9TyPhbPRQrSBi7jVwn9S8RE+M",
      "include_colab_link": true
    },
    "kernelspec": {
      "name": "python3",
      "display_name": "Python 3"
    },
    "language_info": {
      "name": "python"
    }
  },
  "cells": [
    {
      "cell_type": "markdown",
      "metadata": {
        "id": "view-in-github",
        "colab_type": "text"
      },
      "source": [
        "<a href=\"https://colab.research.google.com/github/manassonu/manassonu/blob/main/Copy_of_Untitled1.ipynb\" target=\"_parent\"><img src=\"https://colab.research.google.com/assets/colab-badge.svg\" alt=\"Open In Colab\"/></a>"
      ]
    },
    {
      "cell_type": "code",
      "metadata": {
        "id": "sC_TebgkL5pY"
      },
      "source": [
        " \n",
        "people = {1:{\"name\":\"manas\",\"age\":\"21\",\"sex\":\"male\", \"qualification\":\"btech\"},\n",
        "                  2:{ \"name\":\"deekshu\",\"age\":\"20\",\"sex\":\"female\",\"qualification\":\"pharmacy\"}}"
      ],
      "execution_count": null,
      "outputs": []
    },
    {
      "cell_type": "code",
      "metadata": {
        "colab": {
          "base_uri": "https://localhost:8080/"
        },
        "id": "x6NR0wLZNrHr",
        "outputId": "ee28c61d-e2f6-4f6f-b174-1639ef9405a3"
      },
      "source": [
        "print(people[1][\"name\"])\n",
        "print(people[1][\"age\"])\n",
        "print(people[1][\"sex\"])\n",
        "print(people[1][\"qualification\"])"
      ],
      "execution_count": null,
      "outputs": [
        {
          "output_type": "stream",
          "text": [
            "manas\n",
            "21\n",
            "male\n",
            "btech\n"
          ],
          "name": "stdout"
        }
      ]
    },
    {
      "cell_type": "code",
      "metadata": {
        "colab": {
          "base_uri": "https://localhost:8080/"
        },
        "id": "aJ7gR0mrSaOL",
        "outputId": "4deb895f-16ce-4d80-99ba-ca52d4e8a2d6"
      },
      "source": [
        "print(people[2][\"name\"])\n",
        "print(people[2][\"age\"])\n",
        "print(people[2][\"sex\"])\n",
        "print(people[2][\"qualification\"])"
      ],
      "execution_count": null,
      "outputs": [
        {
          "output_type": "stream",
          "text": [
            "deekshu\n",
            "20\n",
            "female\n",
            "pharmacy\n"
          ],
          "name": "stdout"
        }
      ]
    }
  ]
}